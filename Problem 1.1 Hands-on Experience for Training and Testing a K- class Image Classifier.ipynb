{
 "cells": [
  {
   "cell_type": "markdown",
   "metadata": {},
   "source": [
    "# <center>Cats vs. Dogs - SVM vs. CNN<center>"
   ]
  },
  {
   "cell_type": "markdown",
   "metadata": {},
   "source": [
    "## Dataset Description:"
   ]
  },
  {
   "cell_type": "markdown",
   "metadata": {},
   "source": [
    "The data set that I'm using was obtained from Kaggle (https://www.kaggle.com/c/dogs-vs-cats/data). It contains 25,000 labeled images combining to 571.9 MB. Throughout the notebook these images are manipulated several times to turn them into feasible training data for the models."
   ]
  },
  {
   "cell_type": "markdown",
   "metadata": {},
   "source": [
    "## 0. Importing Libraries"
   ]
  },
  {
   "cell_type": "code",
   "execution_count": 174,
   "metadata": {},
   "outputs": [],
   "source": [
    "import numpy as np\n",
    "import pandas as pd\n",
    "import matplotlib.pyplot as plt\n",
    "import pickle\n",
    "import os\n",
    "import cv2\n",
    "from itertools import chain\n",
    "np.random.seed(123)\n",
    "\n",
    "import scipy\n",
    "from scipy import misc, ndimage\n",
    "from random import randint\n",
    "from skimage.color import rgb2grey\n",
    "from skimage.feature import hog\n",
    "import matplotlib as mpl\n",
    "\n",
    "\n",
    "from sklearn.preprocessing import MinMaxScaler\n",
    "from sklearn.model_selection import train_test_split\n",
    "from sklearn.metrics import confusion_matrix\n",
    "from sklearn.preprocessing import StandardScaler\n",
    "from sklearn import svm\n",
    "from sklearn.decomposition import PCA\n",
    "from sklearn.metrics import accuracy_score\n",
    "\n",
    "import keras\n",
    "from keras import backend as K\n",
    "from keras.optimizers import Adam\n",
    "from keras.optimizers import SGD\n",
    "from keras.optimizers import RMSprop\n",
    "from keras.preprocessing.image import ImageDataGenerator\n",
    "from keras.layers.normalization import BatchNormalization\n",
    "from keras.models import Sequential\n",
    "from keras.layers import Dense, Dropout, Activation, Flatten, MaxPooling2D\n",
    "from keras.layers.convolutional import *\n",
    "from keras.utils import np_utils\n",
    "from keras.metrics import categorical_crossentropy, binary_crossentropy\n",
    "from keras.callbacks import History\n",
    "from keras.utils.vis_utils import plot_model\n",
    "\n",
    "\n",
    "import warnings\n",
    "warnings.filterwarnings('ignore')"
   ]
  },
  {
   "cell_type": "markdown",
   "metadata": {},
   "source": [
    "## 1. Image Loading and Preprocessing"
   ]
  },
  {
   "cell_type": "markdown",
   "metadata": {},
   "source": [
    "### 1.1 Image loading and resizing with optional data augmentation:"
   ]
  },
  {
   "cell_type": "code",
   "execution_count": 144,
   "metadata": {},
   "outputs": [],
   "source": [
    "# Function to load and resize images with optional data augmentation:\n",
    "\n",
    "def create_training_data(data_path, img_size, generator=False, aug_size=10):\n",
    "    \n",
    "    samples, labels = [], []\n",
    "    img_paths = os.listdir(data_path)\n",
    "    counter = 1\n",
    "    \n",
    "    for img in img_paths:\n",
    "        \n",
    "        if (counter%5000 == 0):\n",
    "            print(\"Image \" + str(counter) + \" of \" + str(len(img_paths)) + \".\")\n",
    "        \n",
    "        # Image loading:\n",
    "        img_array = cv2.imread(os.path.join(data_path,img))\n",
    "        \n",
    "        # Image resizing:\n",
    "        img_array = cv2.resize(img_array, (img_size,img_size))\n",
    "        img_array = np.expand_dims(img_array,0)\n",
    "        \n",
    "        # Optional data augmentation:\n",
    "        if isinstance(generator, bool):\n",
    "            samples.append(img_array)\n",
    "            labels.append(0 if img[:3]=='cat' else 1)\n",
    "        else:\n",
    "            aug_iter = generator.flow(img_array)\n",
    "            aug_images = [next(aug_iter)[0].astype(np.uint8) for i in range(aug_size)]\n",
    "            samples.append(aug_images)\n",
    "            labels += aug_size * [0 if img[:3]=='cat' else 1]\n",
    "            \n",
    "    \n",
    "        counter +=1\n",
    "        \n",
    "    samples = list(chain(*samples))\n",
    "    \n",
    "    return samples, labels"
   ]
  },
  {
   "cell_type": "code",
   "execution_count": 145,
   "metadata": {},
   "outputs": [
    {
     "name": "stdout",
     "output_type": "stream",
     "text": [
      "Image 5000 of 25000.\n",
      "Image 10000 of 25000.\n",
      "Image 15000 of 25000.\n",
      "Image 20000 of 25000.\n",
      "Image 25000 of 25000.\n"
     ]
    }
   ],
   "source": [
    "# Calling the create_training_data funciton:\n",
    "\n",
    "data_path = 'data/train'\n",
    "img_size = 200\n",
    "\n",
    "generator = ImageDataGenerator(rotation_range=10, width_shift_range=0.1,\n",
    "                              height_shift_range=0.1, shear_range=0.15,\n",
    "                              zoom_range=0.1, channel_shift_range=10,\n",
    "                              horizontal_flip=True)\n",
    "\n",
    "samples, labels = create_training_data(data_path, img_size)"
   ]
  },
  {
   "cell_type": "code",
   "execution_count": 77,
   "metadata": {},
   "outputs": [],
   "source": [
    "# Saving preprocessed data as npy files\n",
    "\n",
    "np.save('data/samples.npy', samples)\n",
    "np.save('data/labels.npy', labels)"
   ]
  },
  {
   "cell_type": "code",
   "execution_count": 121,
   "metadata": {},
   "outputs": [],
   "source": [
    "samples = np.load('data/samples.npy')\n",
    "labels = np.load('data/labels.npy')"
   ]
  },
  {
   "cell_type": "markdown",
   "metadata": {},
   "source": [
    "## 2. Statistical Machine Learning Approach:"
   ]
  },
  {
   "cell_type": "markdown",
   "metadata": {},
   "source": [
    "### 2.1 Building and SVM Model using a Histogram of Oriented Gradients (HOG):"
   ]
  },
  {
   "cell_type": "markdown",
   "metadata": {},
   "source": [
    "#### Original Image:"
   ]
  },
  {
   "cell_type": "code",
   "execution_count": 188,
   "metadata": {},
   "outputs": [
    {
     "data": {
      "text/plain": [
       "<matplotlib.image.AxesImage at 0x7f808aedd6a0>"
      ]
     },
     "execution_count": 188,
     "metadata": {},
     "output_type": "execute_result"
    },
    {
     "data": {
      "image/png": "[encoded data removed]",
      "text/plain": [
       "<Figure size 432x288 with 1 Axes>"
      ]
     },
     "metadata": {
      "needs_background": "light"
     },
     "output_type": "display_data"
    }
   ],
   "source": [
    "plt.imshow(samples[333])"
   ]
  },
  {
   "cell_type": "markdown",
   "metadata": {},
   "source": [
    "#### HOG Features:"
   ]
  },
  {
   "cell_type": "code",
   "execution_count": 189,
   "metadata": {},
   "outputs": [
    {
     "data": {
      "text/plain": [
       "<matplotlib.image.AxesImage at 0x7f808b09ab70>"
      ]
     },
     "execution_count": 189,
     "metadata": {},
     "output_type": "execute_result"
    },
    {
     "data": {
      "image/png": "[encoded data removed]",
      "text/plain": [
       "<Figure size 432x288 with 1 Axes>"
      ]
     },
     "metadata": {
      "needs_background": "light"
     },
     "output_type": "display_data"
    }
   ],
   "source": [
    "hog_features, hog_image = hog(samples[333],\n",
    "                              visualize=True,\n",
    "                              block_norm='L2-Hys',\n",
    "                              pixels_per_cell=(16, 16))\n",
    "plt.imshow(hog_image, cmap=mpl.cm.gray)"
   ]
  },
  {
   "cell_type": "code",
   "execution_count": 178,
   "metadata": {},
   "outputs": [
    {
     "name": "stdout",
     "output_type": "stream",
     "text": [
      "Image 5000 of 25000.\n",
      "Image 10000 of 25000.\n",
      "Image 15000 of 25000.\n",
      "Image 20000 of 25000.\n",
      "Image 25000 of 25000.\n"
     ]
    }
   ],
   "source": [
    "svm_samples = []\n",
    "svm_labels = labels\n",
    "counter = 1\n",
    "for i in range(len(samples)):\n",
    "    if (counter%5000 == 0):\n",
    "            print(\"Image \" + str(counter) + \" of \" + str(len(samples)) + \".\")\n",
    "    hog_features = hog(samples[i],\n",
    "                       visualize=True,\n",
    "                       block_norm='L2-Hys',\n",
    "                       pixels_per_cell=(16,16))\n",
    "    svm_samples.append(hog_features[0])\n",
    "    counter += 1"
   ]
  },
  {
   "cell_type": "code",
   "execution_count": 56,
   "metadata": {},
   "outputs": [],
   "source": [
    "np.save('data/svm_samples_16x16.npy', svm_samples)"
   ]
  },
  {
   "cell_type": "code",
   "execution_count": 179,
   "metadata": {},
   "outputs": [
    {
     "data": {
      "text/plain": [
       "(25000, 8100)"
      ]
     },
     "execution_count": 179,
     "metadata": {},
     "output_type": "execute_result"
    }
   ],
   "source": [
    "scaler = StandardScaler()\n",
    "scaled_svm_samples = scaler.fit_transform(svm_samples)\n",
    "np.save('data/scaled_svm_samples_16x16.npy', scaled_svm_samples)\n",
    "scaled_svm_samples.shape"
   ]
  },
  {
   "cell_type": "code",
   "execution_count": 180,
   "metadata": {},
   "outputs": [],
   "source": [
    "# Splitting the images into train and test sets:\n",
    "\n",
    "train_samples, test_samples, train_labels, test_labels = train_test_split(\n",
    "                            scaled_svm_samples, svm_labels, test_size=0.2, random_state=42)"
   ]
  },
  {
   "cell_type": "code",
   "execution_count": 181,
   "metadata": {},
   "outputs": [],
   "source": [
    "svm_model = svm.LinearSVC(verbose=1,random_state=24)"
   ]
  },
  {
   "cell_type": "code",
   "execution_count": 182,
   "metadata": {},
   "outputs": [
    {
     "name": "stdout",
     "output_type": "stream",
     "text": [
      "[LibLinear]"
     ]
    },
    {
     "data": {
      "text/plain": [
       "LinearSVC(random_state=24, verbose=1)"
      ]
     },
     "execution_count": 182,
     "metadata": {},
     "output_type": "execute_result"
    }
   ],
   "source": [
    "svm_model.fit(train_samples, train_labels)"
   ]
  },
  {
   "cell_type": "code",
   "execution_count": 71,
   "metadata": {},
   "outputs": [
    {
     "name": "stdout",
     "output_type": "stream",
     "text": [
      "Model accuracy is:  0.6946\n"
     ]
    }
   ],
   "source": [
    "pred_labels = svm_model.predict(test_samples)\n",
    "accuracy = accuracy_score(test_labels, pred_labels)\n",
    "print('Model accuracy is: ', accuracy)"
   ]
  },
  {
   "cell_type": "code",
   "execution_count": 72,
   "metadata": {},
   "outputs": [],
   "source": [
    "import pickle\n",
    "\n",
    "pkl_filename = \"saved_models/svm_model_12x12.pkl\"\n",
    "with open(pkl_filename, 'wb') as file:\n",
    "    pickle.dump(svm_model, file)"
   ]
  },
  {
   "cell_type": "markdown",
   "metadata": {},
   "source": [
    "### 2.2 Testing other HOG pixel densities:"
   ]
  },
  {
   "cell_type": "code",
   "execution_count": null,
   "metadata": {},
   "outputs": [],
   "source": [
    "dims = [8,10,12]\n",
    "\n",
    "for dim in dims:\n",
    "    print(\"Hog Dimension: \" + dim)\n",
    "    \n",
    "    for i in range(len(samples)):\n",
    "        if (counter%5000 == 0):\n",
    "                print(\"Image \" + str(counter) + \" of \" + str(len(samples)) + \".\")\n",
    "        hog_features = hog(samples[i],\n",
    "                           visualize=True,\n",
    "                           block_norm='L2-Hys',\n",
    "                           pixels_per_cell=(dim,dim))\n",
    "        svm_samples.append(hog_features[0])\n",
    "        counter += 1\n",
    "    \n",
    "    scaler = StandardScaler()\n",
    "    scaled_svm_samples = scaler.fit_transform(svm_samples)\n",
    "    \n",
    "    train_samples, test_samples, train_labels, test_labels = train_test_split(\n",
    "                        scaled_svm_samples, svm_labels, test_size=0.2, random_state=42)\n",
    "    \n",
    "    svm_model = svm.LinearSVC(verbose=1,random_state=24)\n",
    "    svm_model.fit(train_samples, train_labels)\n",
    "\n",
    "    pred_labels = svm_model.predict(test_samples)\n",
    "\n",
    "    accuracy = accuracy_score(test_labels, pred_labels)\n",
    "    print('Model' + dim + ' accuracy is: ', accuracy)\n",
    "\n",
    "    pkl_filename = 'saved_models/svm_model_' + str(dim) + 'x' + str(dim) + '.pkl'\n",
    "    with open(pkl_filename, 'wb') as file:\n",
    "        pickle.dump(svm_model, file)"
   ]
  },
  {
   "cell_type": "markdown",
   "metadata": {},
   "source": [
    "### 2.3 Incorporating Principal Component Analysis (PCA):"
   ]
  },
  {
   "cell_type": "code",
   "execution_count": 80,
   "metadata": {
    "collapsed": true
   },
   "outputs": [
    {
     "name": "stdout",
     "output_type": "stream",
     "text": [
      "Number of PCs: 500\n",
      "Hog Dimension: 8x8\n",
      "PCA Shape: (25000, 500)\n",
      "[LibLinear]Model8x8 accuracy is:  0.6462\n",
      "Hog Dimension: 10x10\n",
      "PCA Shape: (25000, 500)\n",
      "[LibLinear]Model10x10 accuracy is:  0.6754\n",
      "Hog Dimension: 12x12\n",
      "PCA Shape: (25000, 500)\n",
      "[LibLinear]Model12x12 accuracy is:  0.6584\n",
      "Hog Dimension: 14x14\n",
      "PCA Shape: (25000, 500)\n",
      "[LibLinear]Model14x14 accuracy is:  0.6588\n",
      "Hog Dimension: 16x16\n",
      "PCA Shape: (25000, 500)\n",
      "[LibLinear]Model16x16 accuracy is:  0.6226\n",
      "Number of PCs: 2000\n",
      "Hog Dimension: 8x8\n",
      "PCA Shape: (25000, 2000)\n",
      "[LibLinear]Model8x8 accuracy is:  0.6614\n",
      "Hog Dimension: 10x10\n",
      "PCA Shape: (25000, 2000)\n",
      "[LibLinear]Model10x10 accuracy is:  0.677\n",
      "Hog Dimension: 12x12\n",
      "PCA Shape: (25000, 2000)\n",
      "[LibLinear]Model12x12 accuracy is:  0.6552\n",
      "Hog Dimension: 14x14\n",
      "PCA Shape: (25000, 2000)\n",
      "[LibLinear]Model14x14 accuracy is:  0.6872\n",
      "Hog Dimension: 16x16\n",
      "PCA Shape: (25000, 2000)\n",
      "[LibLinear]Model16x16 accuracy is:  0.6786\n"
     ]
    }
   ],
   "source": [
    "n_pcs = [500, 1000, 2000]\n",
    "dims = [8,10,12,16]\n",
    "\n",
    "for n_pc in n_pcs:\n",
    "    print(\"Number of PCs: \" + str(n_pc))\n",
    "    for dim in dims:\n",
    "        print(\"Hog Dimension: \" + dim)\n",
    "        \n",
    "        for i in range(len(samples)):\n",
    "            if (counter%5000 == 0):\n",
    "                    print(\"Image \" + str(counter) + \" of \" + str(len(samples)) + \".\")\n",
    "            hog_features = hog(samples[i],\n",
    "                               visualize=True,\n",
    "                               block_norm='L2-Hys',\n",
    "                               pixels_per_cell=(dim,dim))\n",
    "            svm_samples.append(hog_features[0])\n",
    "            counter += 1\n",
    "        \n",
    "        scaler = StandardScaler()\n",
    "        scaled_svm_samples = scaler.fit_transform(svm_samples)\n",
    "        np.save('data/scaled_svm_samples_' + str(dim) + 'x' + str(dim) + '.npy', scaled_svm_samples_)\n",
    "\n",
    "        pca = PCA(n_components=n_pc)\n",
    "        pca_samples = pca.fit_transform(scaled_svm_samples)\n",
    "        \n",
    "        print(\"PCA Shape: \" + str(pca_samples.shape))\n",
    "        np.save('data/pca_svm_samples_' + str(dim) + 'x' + str(dim) + '_' + str(n_pc) + '.npy', pca_samples)\n",
    "        \n",
    "        train_samples, test_samples, train_labels, test_labels = train_test_split(\n",
    "                            pca_samples, svm_labels, test_size=0.2, random_state=42)\n",
    "        \n",
    "        svm_model = svm.LinearSVC(verbose=1,random_state=24)\n",
    "        svm_model.fit(train_samples, train_labels)\n",
    "\n",
    "        pred_labels = svm_model.predict(test_samples)\n",
    "\n",
    "        accuracy = accuracy_score(test_labels, pred_labels)\n",
    "        print('Model' + dim + ' accuracy is: ', accuracy)\n",
    "\n",
    "        pkl_filename = 'saved_models/svm_model_' + str(dim) + 'x' + str(dim) + '_' str(n_pc) + '_pca.pkl'\n",
    "        with open(pkl_filename, 'wb') as file:\n",
    "            pickle.dump(svm_model, file)"
   ]
  },
  {
   "cell_type": "markdown",
   "metadata": {},
   "source": [
    "### 2.4 Accuracy Levels for all SVM Models:"
   ]
  },
  {
   "cell_type": "markdown",
   "metadata": {},
   "source": [
    "![title](images/svm_acc_table.png)"
   ]
  },
  {
   "cell_type": "markdown",
   "metadata": {},
   "source": [
    "In the end, the chosen model was the SVM with 16x16 HOG without PCA. It was the best trade-off between training time and accuracy, taking ~12 minutes to generate the feature data set and ~6 minutes to train the SVM model."
   ]
  },
  {
   "cell_type": "markdown",
   "metadata": {},
   "source": [
    "## 3. Deep Learning Approach:"
   ]
  },
  {
   "cell_type": "markdown",
   "metadata": {},
   "source": [
    "### 3.1 16-layer CNN:"
   ]
  },
  {
   "cell_type": "markdown",
   "metadata": {},
   "source": [
    "#### 3.1.1 Network Structure Diagram:"
   ]
  },
  {
   "cell_type": "markdown",
   "metadata": {},
   "source": [
    "![title](images/model_plot_long_cnn.png)"
   ]
  },
  {
   "cell_type": "code",
   "execution_count": 164,
   "metadata": {},
   "outputs": [],
   "source": [
    "cnn_model = Sequential([\n",
    "    Conv2D(32, (3, 3), input_shape=(200,200,3)),\n",
    "    Activation('relu'),\n",
    "    MaxPooling2D(pool_size=(2, 2)),\n",
    "    Conv2D(64, (3, 3)),\n",
    "    Activation('relu'),\n",
    "    MaxPooling2D(pool_size=(2, 2)),\n",
    "    Conv2D(128, (3, 3)),\n",
    "    Activation('relu'),\n",
    "    MaxPooling2D(pool_size=(2, 2)),\n",
    "    Flatten(),\n",
    "    Dense(128),\n",
    "    Activation('relu'),\n",
    "    Dropout(0.5),\n",
    "    Dense(1, activation='sigmoid')\n",
    "])"
   ]
  },
  {
   "cell_type": "code",
   "execution_count": 165,
   "metadata": {},
   "outputs": [],
   "source": [
    "cnn_model.compile(loss='binary_crossentropy',\n",
    "            optimizer='rmsprop',\n",
    "            metrics=['accuracy'])"
   ]
  },
  {
   "cell_type": "code",
   "execution_count": 169,
   "metadata": {
    "collapsed": true
   },
   "outputs": [
    {
     "name": "stdout",
     "output_type": "stream",
     "text": [
      "Train on 20000 samples, validate on 5000 samples\n",
      "Epoch 1/20\n",
      "20000/20000 [==============================] - 454s 23ms/step - loss: 8.0047 - accuracy: 0.5048 - val_loss: 0.6932 - val_accuracy: 0.4966\n",
      "Epoch 2/20\n",
      "20000/20000 [==============================] - 432s 22ms/step - loss: 0.6932 - accuracy: 0.4985 - val_loss: 0.6932 - val_accuracy: 0.4966\n",
      "Epoch 3/20\n",
      "20000/20000 [==============================] - 426s 21ms/step - loss: 0.6932 - accuracy: 0.4945 - val_loss: 0.6931 - val_accuracy: 0.5034\n",
      "Epoch 4/20\n",
      "20000/20000 [==============================] - 418s 21ms/step - loss: 0.6932 - accuracy: 0.4979 - val_loss: 0.6931 - val_accuracy: 0.5034\n",
      "Epoch 5/20\n",
      "20000/20000 [==============================] - 408s 20ms/step - loss: 0.6932 - accuracy: 0.5033 - val_loss: 0.6932 - val_accuracy: 0.4966\n",
      "Epoch 6/20\n",
      "20000/20000 [==============================] - 403s 20ms/step - loss: 0.7678 - accuracy: 0.4956 - val_loss: 0.6932 - val_accuracy: 0.4966\n",
      "Epoch 7/20\n",
      "20000/20000 [==============================] - 391s 20ms/step - loss: 0.6932 - accuracy: 0.4965 - val_loss: 0.6932 - val_accuracy: 0.4966\n",
      "Epoch 8/20\n",
      "20000/20000 [==============================] - 391s 20ms/step - loss: 0.6932 - accuracy: 0.5028 - val_loss: 0.6931 - val_accuracy: 0.5034\n",
      "Epoch 9/20\n",
      "20000/20000 [==============================] - 391s 20ms/step - loss: 0.7042 - accuracy: 0.4956 - val_loss: 0.6932 - val_accuracy: 0.4966\n",
      "Epoch 10/20\n",
      "20000/20000 [==============================] - 392s 20ms/step - loss: 0.6932 - accuracy: 0.5005 - val_loss: 0.6931 - val_accuracy: 0.5034\n",
      "Epoch 11/20\n",
      "20000/20000 [==============================] - 390s 19ms/step - loss: 0.6932 - accuracy: 0.4990 - val_loss: 0.6931 - val_accuracy: 0.5034\n",
      "Epoch 12/20\n",
      "20000/20000 [==============================] - 391s 20ms/step - loss: 0.6932 - accuracy: 0.4997 - val_loss: 0.6931 - val_accuracy: 0.5034\n",
      "Epoch 13/20\n",
      "20000/20000 [==============================] - 392s 20ms/step - loss: 0.7216 - accuracy: 0.4938 - val_loss: 0.6932 - val_accuracy: 0.4966\n",
      "Epoch 14/20\n",
      "20000/20000 [==============================] - 391s 20ms/step - loss: 0.7789 - accuracy: 0.4951 - val_loss: 0.6932 - val_accuracy: 0.4970\n",
      "Epoch 15/20\n",
      "20000/20000 [==============================] - 391s 20ms/step - loss: 0.7096 - accuracy: 0.4954 - val_loss: 0.6931 - val_accuracy: 0.5034\n",
      "Epoch 16/20\n",
      "20000/20000 [==============================] - 390s 20ms/step - loss: 0.6931 - accuracy: 0.5052 - val_loss: 0.6933 - val_accuracy: 0.4966\n",
      "Epoch 17/20\n",
      "20000/20000 [==============================] - 390s 20ms/step - loss: 0.7152 - accuracy: 0.5010 - val_loss: 0.6932 - val_accuracy: 0.4968\n",
      "Epoch 18/20\n",
      "20000/20000 [==============================] - 390s 19ms/step - loss: 0.7050 - accuracy: 0.4978 - val_loss: 0.6932 - val_accuracy: 0.4966\n",
      "Epoch 19/20\n",
      "20000/20000 [==============================] - 390s 19ms/step - loss: 0.6932 - accuracy: 0.4949 - val_loss: 0.6932 - val_accuracy: 0.4966\n",
      "Epoch 20/20\n",
      "20000/20000 [==============================] - 389s 19ms/step - loss: 0.6932 - accuracy: 0.4976 - val_loss: 0.6932 - val_accuracy: 0.4966\n"
     ]
    }
   ],
   "source": [
    "history = cnn_model.fit([samples], [labels], batch_size=32, epochs=20, validation_split=0.2,verbose=1)"
   ]
  },
  {
   "cell_type": "code",
   "execution_count": 177,
   "metadata": {},
   "outputs": [],
   "source": [
    "cnn_model.save('saved_models/long_cnn_model')"
   ]
  },
  {
   "cell_type": "code",
   "execution_count": 176,
   "metadata": {},
   "outputs": [
    {
     "name": "stdout",
     "output_type": "stream",
     "text": [
      "Model: \"sequential_17\"\n",
      "_________________________________________________________________\n",
      "Layer (type)                 Output Shape              Param #   \n",
      "=================================================================\n",
      "conv2d_51 (Conv2D)           (None, 198, 198, 32)      896       \n",
      "_________________________________________________________________\n",
      "activation_7 (Activation)    (None, 198, 198, 32)      0         \n",
      "_________________________________________________________________\n",
      "max_pooling2d_47 (MaxPooling (None, 99, 99, 32)        0         \n",
      "_________________________________________________________________\n",
      "conv2d_52 (Conv2D)           (None, 97, 97, 64)        18496     \n",
      "_________________________________________________________________\n",
      "activation_8 (Activation)    (None, 97, 97, 64)        0         \n",
      "_________________________________________________________________\n",
      "max_pooling2d_48 (MaxPooling (None, 48, 48, 64)        0         \n",
      "_________________________________________________________________\n",
      "conv2d_53 (Conv2D)           (None, 46, 46, 128)       73856     \n",
      "_________________________________________________________________\n",
      "activation_9 (Activation)    (None, 46, 46, 128)       0         \n",
      "_________________________________________________________________\n",
      "max_pooling2d_49 (MaxPooling (None, 23, 23, 128)       0         \n",
      "_________________________________________________________________\n",
      "flatten_16 (Flatten)         (None, 67712)             0         \n",
      "_________________________________________________________________\n",
      "dense_32 (Dense)             (None, 128)               8667264   \n",
      "_________________________________________________________________\n",
      "activation_10 (Activation)   (None, 128)               0         \n",
      "_________________________________________________________________\n",
      "dropout_36 (Dropout)         (None, 128)               0         \n",
      "_________________________________________________________________\n",
      "dense_33 (Dense)             (None, 1)                 129       \n",
      "_________________________________________________________________\n",
      "activation_11 (Activation)   (None, 1)                 0         \n",
      "=================================================================\n",
      "Total params: 8,760,641\n",
      "Trainable params: 8,760,641\n",
      "Non-trainable params: 0\n",
      "_________________________________________________________________\n",
      "None\n"
     ]
    }
   ],
   "source": [
    "print(model.summary())"
   ]
  },
  {
   "cell_type": "code",
   "execution_count": 171,
   "metadata": {},
   "outputs": [
    {
     "data": {
      "text/plain": [
       "[<matplotlib.lines.Line2D at 0x7f8107c7a860>]"
      ]
     },
     "execution_count": 171,
     "metadata": {},
     "output_type": "execute_result"
    },
    {
     "data": {
      "image/png": "[encoded data removed]",
      "text/plain": [
       "<Figure size 432x288 with 2 Axes>"
      ]
     },
     "metadata": {
      "needs_background": "light"
     },
     "output_type": "display_data"
    }
   ],
   "source": [
    "# Plotting the Cross Entropy Loss and the Classification Accuracy throughout th eepochs\n",
    "\n",
    "plt.subplot(211)\n",
    "plt.title('Cross Entropy Loss')\n",
    "plt.plot(history.history['loss'], color='blue', label='train')\n",
    "plt.plot(history.history['val_loss'], color='orange', label='test')\n",
    "\n",
    "plt.subplot(212)\n",
    "plt.title('Classification Accuracy')\n",
    "plt.plot(history.history['accuracy'], color='blue', label='train')\n",
    "plt.plot(history.history['val_accuracy'], color='orange', label='test')"
   ]
  },
  {
   "cell_type": "markdown",
   "metadata": {},
   "source": [
    "### 3.2 10-layer CNN:"
   ]
  },
  {
   "cell_type": "markdown",
   "metadata": {},
   "source": [
    "#### 3.2.1 Network Structure Diagram:"
   ]
  },
  {
   "cell_type": "markdown",
   "metadata": {},
   "source": [
    "![title](images/model_plot_short_cnn.png)"
   ]
  },
  {
   "cell_type": "markdown",
   "metadata": {},
   "source": [
    "#### 3.2.2 Network Implementation:"
   ]
  },
  {
   "cell_type": "code",
   "execution_count": 140,
   "metadata": {},
   "outputs": [],
   "source": [
    "cnn = Sequential([\n",
    "    Conv2D(32, (3,3), activation='relu', kernel_initializer='he_uniform',  padding='same', input_shape=(200,200,3)),\n",
    "    MaxPooling2D(pool_size=(2,2)),\n",
    "    Conv2D(64, (3,3), activation='relu', kernel_initializer='he_uniform',  padding='same'),\n",
    "    MaxPooling2D(pool_size=(2,2)),\n",
    "    Conv2D(128, (3,3), activation='relu', kernel_initializer='he_uniform',  padding='same'),\n",
    "    MaxPooling2D(pool_size=(2,2)),\n",
    "    Flatten(),\n",
    "    Dense(128, activation='relu', kernel_initializer='he_uniform'),\n",
    "    Dense(1, activation='sigmoid')\n",
    "])"
   ]
  },
  {
   "cell_type": "code",
   "execution_count": 97,
   "metadata": {},
   "outputs": [],
   "source": [
    "cnn.compile(loss='binary_crossentropy', \n",
    "            optimizer=Adam(lr=0.0001),\n",
    "            metrics=['accuracy'])"
   ]
  },
  {
   "cell_type": "markdown",
   "metadata": {},
   "source": [
    "#### 3.2.3 Network Training:"
   ]
  },
  {
   "cell_type": "code",
   "execution_count": 98,
   "metadata": {
    "collapsed": true
   },
   "outputs": [
    {
     "name": "stdout",
     "output_type": "stream",
     "text": [
      "Train on 20000 samples, validate on 5000 samples\n",
      "Epoch 1/30\n",
      "20000/20000 [==============================] - 471s 24ms/step - loss: 18.7482 - accuracy: 0.5809 - val_loss: 1.0864 - val_accuracy: 0.6368\n",
      "Epoch 2/30\n",
      "20000/20000 [==============================] - 432s 22ms/step - loss: 0.9341 - accuracy: 0.6784 - val_loss: 0.8430 - val_accuracy: 0.6992\n",
      "Epoch 3/30\n",
      "20000/20000 [==============================] - 412s 21ms/step - loss: 0.7369 - accuracy: 0.7334 - val_loss: 0.7588 - val_accuracy: 0.7164\n",
      "Epoch 4/30\n",
      "20000/20000 [==============================] - 419s 21ms/step - loss: 1.0017 - accuracy: 0.7401 - val_loss: 0.7431 - val_accuracy: 0.7202\n",
      "Epoch 5/30\n",
      "20000/20000 [==============================] - 384s 19ms/step - loss: 0.4745 - accuracy: 0.8005 - val_loss: 0.7248 - val_accuracy: 0.7276\n",
      "Epoch 6/30\n",
      "20000/20000 [==============================] - 402s 20ms/step - loss: 0.3947 - accuracy: 0.8267 - val_loss: 0.6913 - val_accuracy: 0.7446\n",
      "Epoch 7/30\n",
      "20000/20000 [==============================] - 383s 19ms/step - loss: 0.3172 - accuracy: 0.8611 - val_loss: 0.7445 - val_accuracy: 0.7364\n",
      "Epoch 8/30\n",
      "20000/20000 [==============================] - 383s 19ms/step - loss: 0.2595 - accuracy: 0.8882 - val_loss: 0.6906 - val_accuracy: 0.7466\n",
      "Epoch 9/30\n",
      "20000/20000 [==============================] - 383s 19ms/step - loss: 0.2265 - accuracy: 0.9036 - val_loss: 0.7354 - val_accuracy: 0.7446\n",
      "Epoch 10/30\n",
      "20000/20000 [==============================] - 383s 19ms/step - loss: 0.2064 - accuracy: 0.9151 - val_loss: 0.8708 - val_accuracy: 0.7182\n",
      "Epoch 11/30\n",
      "20000/20000 [==============================] - 383s 19ms/step - loss: 0.2103 - accuracy: 0.9109 - val_loss: 0.7917 - val_accuracy: 0.7384\n",
      "Epoch 12/30\n",
      "20000/20000 [==============================] - 385s 19ms/step - loss: 0.1529 - accuracy: 0.9408 - val_loss: 0.7343 - val_accuracy: 0.7570\n",
      "Epoch 13/30\n",
      "20000/20000 [==============================] - 385s 19ms/step - loss: 0.1697 - accuracy: 0.9324 - val_loss: 0.7624 - val_accuracy: 0.7520\n",
      "Epoch 14/30\n",
      "20000/20000 [==============================] - 384s 19ms/step - loss: 0.1115 - accuracy: 0.9629 - val_loss: 0.7706 - val_accuracy: 0.7588\n",
      "Epoch 15/30\n",
      "20000/20000 [==============================] - 384s 19ms/step - loss: 0.0914 - accuracy: 0.9725 - val_loss: 0.8785 - val_accuracy: 0.7428\n",
      "Epoch 16/30\n",
      "20000/20000 [==============================] - 384s 19ms/step - loss: 0.0819 - accuracy: 0.9773 - val_loss: 0.7951 - val_accuracy: 0.7664\n",
      "Epoch 17/30\n",
      "20000/20000 [==============================] - 383s 19ms/step - loss: 0.0681 - accuracy: 0.9831 - val_loss: 0.8163 - val_accuracy: 0.7618\n",
      "Epoch 18/30\n",
      "20000/20000 [==============================] - 385s 19ms/step - loss: 0.0565 - accuracy: 0.9890 - val_loss: 0.8845 - val_accuracy: 0.7604\n",
      "Epoch 19/30\n",
      "20000/20000 [==============================] - 384s 19ms/step - loss: 0.0534 - accuracy: 0.9891 - val_loss: 0.9304 - val_accuracy: 0.7502\n",
      "Epoch 20/30\n",
      "20000/20000 [==============================] - 384s 19ms/step - loss: 0.0462 - accuracy: 0.9919 - val_loss: 0.8800 - val_accuracy: 0.7656\n",
      "Epoch 21/30\n",
      "20000/20000 [==============================] - 385s 19ms/step - loss: 0.0421 - accuracy: 0.9935 - val_loss: 0.9609 - val_accuracy: 0.7530\n",
      "Epoch 22/30\n",
      "20000/20000 [==============================] - 384s 19ms/step - loss: 0.0510 - accuracy: 0.9877 - val_loss: 0.9297 - val_accuracy: 0.7640\n",
      "Epoch 23/30\n",
      "20000/20000 [==============================] - 384s 19ms/step - loss: 0.0356 - accuracy: 0.9948 - val_loss: 0.9674 - val_accuracy: 0.7664\n",
      "Epoch 24/30\n",
      "20000/20000 [==============================] - 384s 19ms/step - loss: 0.0263 - accuracy: 0.9978 - val_loss: 1.0387 - val_accuracy: 0.7608\n",
      "Epoch 25/30\n",
      "20000/20000 [==============================] - 384s 19ms/step - loss: 0.0273 - accuracy: 0.9965 - val_loss: 1.0622 - val_accuracy: 0.7552\n",
      "Epoch 26/30\n",
      "20000/20000 [==============================] - 384s 19ms/step - loss: 0.0310 - accuracy: 0.9947 - val_loss: 1.0004 - val_accuracy: 0.7696\n",
      "Epoch 27/30\n",
      "20000/20000 [==============================] - 384s 19ms/step - loss: 0.0556 - accuracy: 0.9825 - val_loss: 1.0391 - val_accuracy: 0.7638\n",
      "Epoch 28/30\n",
      "20000/20000 [==============================] - 384s 19ms/step - loss: 0.0551 - accuracy: 0.9819 - val_loss: 1.1584 - val_accuracy: 0.7418\n",
      "Epoch 29/30\n",
      "20000/20000 [==============================] - 384s 19ms/step - loss: 0.0482 - accuracy: 0.9864 - val_loss: 1.0570 - val_accuracy: 0.7722\n",
      "Epoch 30/30\n",
      "20000/20000 [==============================] - 385s 19ms/step - loss: 0.0233 - accuracy: 0.9963 - val_loss: 1.0975 - val_accuracy: 0.7654\n"
     ]
    },
    {
     "data": {
      "text/plain": [
       "<keras.callbacks.callbacks.History at 0x7fb0b7ddcb00>"
      ]
     },
     "execution_count": 98,
     "metadata": {},
     "output_type": "execute_result"
    }
   ],
   "source": [
    "history = cnn.fit(samples, labels, batch_size=100, epochs=30, validation_split=0.2,verbose=1)"
   ]
  },
  {
   "cell_type": "code",
   "execution_count": 184,
   "metadata": {},
   "outputs": [
    {
     "name": "stdout",
     "output_type": "stream",
     "text": [
      "Model: \"sequential_5\"\n",
      "_________________________________________________________________\n",
      "Layer (type)                 Output Shape              Param #   \n",
      "=================================================================\n",
      "conv2d_16 (Conv2D)           (None, 200, 200, 32)      896       \n",
      "_________________________________________________________________\n",
      "max_pooling2d_16 (MaxPooling (None, 100, 100, 32)      0         \n",
      "_________________________________________________________________\n",
      "conv2d_17 (Conv2D)           (None, 100, 100, 64)      18496     \n",
      "_________________________________________________________________\n",
      "max_pooling2d_17 (MaxPooling (None, 50, 50, 64)        0         \n",
      "_________________________________________________________________\n",
      "conv2d_18 (Conv2D)           (None, 50, 50, 128)       73856     \n",
      "_________________________________________________________________\n",
      "max_pooling2d_18 (MaxPooling (None, 25, 25, 128)       0         \n",
      "_________________________________________________________________\n",
      "flatten_6 (Flatten)          (None, 80000)             0         \n",
      "_________________________________________________________________\n",
      "dense_9 (Dense)              (None, 128)               10240128  \n",
      "_________________________________________________________________\n",
      "dense_10 (Dense)             (None, 1)                 129       \n",
      "=================================================================\n",
      "Total params: 10,333,505\n",
      "Trainable params: 10,333,505\n",
      "Non-trainable params: 0\n",
      "_________________________________________________________________\n",
      "None\n"
     ]
    }
   ],
   "source": [
    "print(cnn.summary())"
   ]
  },
  {
   "cell_type": "markdown",
   "metadata": {},
   "source": [
    "### 3.2.4 Accuracy and Loss over epochs:"
   ]
  },
  {
   "cell_type": "markdown",
   "metadata": {},
   "source": [
    "![title](images/acc_cnn.png)"
   ]
  },
  {
   "cell_type": "markdown",
   "metadata": {},
   "source": [
    "![title](images/loss_cnn.png)"
   ]
  },
  {
   "cell_type": "markdown",
   "metadata": {},
   "source": [
    "While this network fit very well to the training data, reaching an accuracy level of 99.63%, the validation accuracy plateaued at ~76% after 14 epochs. The network took 3 hours and 15 minutes to train over 30 epochs using a CPU."
   ]
  },
  {
   "cell_type": "markdown",
   "metadata": {},
   "source": [
    "# Conclusion"
   ]
  },
  {
   "cell_type": "markdown",
   "metadata": {},
   "source": [
    "This homework was an amazing experience for me to get some hands-on experience with ML/deep-learning tools and explore the field of image classification. While I was not able to achieve extremely high accuracy levels,one of my CNNs permored fairly well at ~77% for the validation set. It's clear that a lot of effort needs to go into tuning and training models and I'm looking forward to improve on this baseline work throughout the semester."
   ]
  },
  {
   "cell_type": "markdown",
   "metadata": {},
   "source": [
    "## References"
   ]
  },
  {
   "cell_type": "markdown",
   "metadata": {},
   "source": [
    "Since most of the concepts and tools used in this homework were completely new to me, I spent quite some time reading, researching and experimenting. Here are the main sources I used in order to learn the topics and complete the assignment:\n",
    "\n",
    "<b>Books:</b>\n",
    "  - VanderPlas, J. (2016). Python Data Science Handbook. O'Reilly Media.\n",
    "  - Osinga, D. (2018). Deep learning cookbook: Practical recipes to get started quickly. Beijing: O'Reilly.\n",
    "    \n",
    "<b>YouTube Channels:</b>\n",
    "  - Deeplizard: https://www.youtube.com/channel/UC4UJ26WkceqONNF5S26OiVw\n",
    "  - sentdex: https://www.youtube.com/channel/UCfzlCWGWYyIQ0aLC5w48gBQ\n",
    "  \n",
    "<b>Webpages:</b>\n",
    "  - Team, K. (n.d.). Keras documentation: Keras API reference. Retrieved from https://keras.io/api/\n",
    "  - scikit-learn API Reference. (n.d.). Retrieved from https://scikit-learn.org/stable/modules/classes.html\n",
    "  - Saha, S. (2018, December 17). A Comprehensive Guide to Convolutional Neural Networks - the ELI5 way. Retrieved from https://towardsdatascience.com/a-comprehensive-guide-to-convolutional-neural-networks-the-eli5-way-3bd2b1164a53\n",
    "  - Ruder, S. (2020, March 20). An overview of gradient descent optimization algorithms. Retrieved from https://ruder.io/optimizing-gradient-descent/\n",
    "  - Nalpet, A. (2018, September 10). Linear Support Vector Machine - Binary Image Classification \" pyblog. Retrieved from https://pyblog.xyz/linear-svm-binary-image-classification/\n",
    "  - Mayer, M. (n.d.). NAIVE BEES (Part 2) PREDICT SPECIES FROM IMAGES. Retrieved from https://matthieumayer.github.io/profile/Naive_Bees_Predict_Species_from_Images.html\n",
    "  - Surma, G. (2019, January 17). Image Classifier - Cats🐱 vs Dogs🐶. Retrieved from https://towardsdatascience.com/image-classifier-cats-vs-dogs-with-convolutional-neural-networks-cnns-and-google-colabs-4e9af21ae7a8\n",
    "  - Brownlee, J. (2020, September 01). How to Classify Photos of Dogs and Cats (with 97% accuracy). Retrieved from https://machinelearningmastery.com/how-to-develop-a-convolutional-neural-network-to-classify-photos-of-dogs-and-cats/ "
   ]
  }
 ],
 "metadata": {
  "kernelspec": {
   "display_name": "Python 3",
   "language": "python",
   "name": "python3"
  },
  "language_info": {
   "codemirror_mode": {
    "name": "ipython",
    "version": 3
   },
   "file_extension": ".py",
   "mimetype": "text/x-python",
   "name": "python",
   "nbconvert_exporter": "python",
   "pygments_lexer": "ipython3",
   "version": "3.6.10"
  }
 },
 "nbformat": 4,
 "nbformat_minor": 4
}
